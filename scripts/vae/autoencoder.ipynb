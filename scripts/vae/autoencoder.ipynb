{
 "cells": [
  {
   "cell_type": "markdown",
   "metadata": {},
   "source": [
    "https://towardsdatascience.com/intuitively-understanding-variational-autoencoders-1bfe67eb5daf\n",
    "\n",
    "https://blog.openai.com/evolution-strategies/\n",
    "\n",
    "https://blog.keras.io/building-autoencoders-in-keras.html"
   ]
  },
  {
   "cell_type": "code",
   "execution_count": 1,
   "metadata": {},
   "outputs": [
    {
     "name": "stderr",
     "output_type": "stream",
     "text": [
      "/Users/wab665/anaconda3/envs/py36/lib/python3.6/site-packages/h5py/__init__.py:36: FutureWarning: Conversion of the second argument of issubdtype from `float` to `np.floating` is deprecated. In future, it will be treated as `np.float64 == np.dtype(float).type`.\n",
      "  from ._conv import register_converters as _register_converters\n",
      "Using TensorFlow backend.\n"
     ]
    }
   ],
   "source": [
    "from keras.layers import Input, Dense\n",
    "from keras.models import Model\n",
    "\n",
    "# this is the size of our encoded representations\n",
    "encoding_dim = 32  # 32 floats -> compression of factor 24.5, assuming the input is 784 floats\n",
    "\n",
    "# this is our input placeholder\n",
    "input_img = Input(shape=(784,))\n",
    "# \"encoded\" is the encoded representation of the input\n",
    "encoded = Dense(encoding_dim, activation='relu')(input_img)\n",
    "# \"decoded\" is the lossy reconstruction of the input\n",
    "decoded = Dense(784, activation='sigmoid')(encoded)\n",
    "\n",
    "# this model maps an input to its reconstruction\n",
    "autoencoder = Model(input_img, decoded)"
   ]
  },
  {
   "cell_type": "code",
   "execution_count": 2,
   "metadata": {},
   "outputs": [],
   "source": [
    "# this model maps an input to its encoded representation\n",
    "encoder = Model(input_img, encoded)"
   ]
  },
  {
   "cell_type": "code",
   "execution_count": 3,
   "metadata": {},
   "outputs": [],
   "source": [
    "# create a placeholder for an encoded (32-dimensional) input\n",
    "encoded_input = Input(shape=(encoding_dim,))\n",
    "# retrieve the last layer of the autoencoder model\n",
    "decoder_layer = autoencoder.layers[-1]\n",
    "# create the decoder model\n",
    "decoder = Model(encoded_input, decoder_layer(encoded_input))"
   ]
  },
  {
   "cell_type": "code",
   "execution_count": 4,
   "metadata": {},
   "outputs": [],
   "source": [
    "autoencoder.compile(optimizer='adadelta', loss='binary_crossentropy')"
   ]
  },
  {
   "cell_type": "code",
   "execution_count": 5,
   "metadata": {},
   "outputs": [
    {
     "name": "stdout",
     "output_type": "stream",
     "text": [
      "Downloading data from https://s3.amazonaws.com/img-datasets/mnist.npz\n",
      "11493376/11490434 [==============================] - 31s 3us/step\n"
     ]
    }
   ],
   "source": [
    "from keras.datasets import mnist\n",
    "import numpy as np\n",
    "(x_train, _), (x_test, _) = mnist.load_data()"
   ]
  },
  {
   "cell_type": "code",
   "execution_count": 8,
   "metadata": {},
   "outputs": [
    {
     "name": "stdout",
     "output_type": "stream",
     "text": [
      "(60000, 784)\n",
      "(10000, 784)\n"
     ]
    }
   ],
   "source": [
    "x_train = x_train.astype('float32') / 255.\n",
    "x_test = x_test.astype('float32') / 255.\n",
    "x_train = x_train.reshape((len(x_train), np.prod(x_train.shape[1:])))\n",
    "x_test = x_test.reshape((len(x_test), np.prod(x_test.shape[1:])))\n",
    "print(x_train.shape)\n",
    "print(x_test.shape)"
   ]
  },
  {
   "cell_type": "code",
   "execution_count": 9,
   "metadata": {},
   "outputs": [
    {
     "name": "stdout",
     "output_type": "stream",
     "text": [
      "Train on 60000 samples, validate on 10000 samples\n",
      "Epoch 1/50\n",
      "60000/60000 [==============================] - 5s 83us/step - loss: 0.3491 - val_loss: 0.2694\n",
      "Epoch 2/50\n",
      "60000/60000 [==============================] - 4s 70us/step - loss: 0.2605 - val_loss: 0.2478\n",
      "Epoch 3/50\n",
      "60000/60000 [==============================] - 4s 70us/step - loss: 0.2370 - val_loss: 0.2240\n",
      "Epoch 4/50\n",
      "60000/60000 [==============================] - 4s 62us/step - loss: 0.2166 - val_loss: 0.2069\n",
      "Epoch 5/50\n",
      "60000/60000 [==============================] - 5s 77us/step - loss: 0.2023 - val_loss: 0.1951\n",
      "Epoch 6/50\n",
      "60000/60000 [==============================] - 4s 67us/step - loss: 0.1920 - val_loss: 0.1861\n",
      "Epoch 7/50\n",
      "60000/60000 [==============================] - 4s 67us/step - loss: 0.1840 - val_loss: 0.1791\n",
      "Epoch 8/50\n",
      "60000/60000 [==============================] - 4s 60us/step - loss: 0.1774 - val_loss: 0.1729\n",
      "Epoch 9/50\n",
      "60000/60000 [==============================] - 4s 59us/step - loss: 0.1719 - val_loss: 0.1679\n",
      "Epoch 10/50\n",
      "60000/60000 [==============================] - 4s 59us/step - loss: 0.1670 - val_loss: 0.1632\n",
      "Epoch 11/50\n",
      "60000/60000 [==============================] - 4s 59us/step - loss: 0.1626 - val_loss: 0.1590\n",
      "Epoch 12/50\n",
      "60000/60000 [==============================] - 4s 59us/step - loss: 0.1586 - val_loss: 0.1551\n",
      "Epoch 13/50\n",
      "60000/60000 [==============================] - 4s 59us/step - loss: 0.1548 - val_loss: 0.1515\n",
      "Epoch 14/50\n",
      "60000/60000 [==============================] - 4s 63us/step - loss: 0.1514 - val_loss: 0.1482\n",
      "Epoch 15/50\n",
      "60000/60000 [==============================] - 4s 60us/step - loss: 0.1481 - val_loss: 0.1450\n",
      "Epoch 16/50\n",
      "60000/60000 [==============================] - 4s 61us/step - loss: 0.1451 - val_loss: 0.1421\n",
      "Epoch 17/50\n",
      "60000/60000 [==============================] - 4s 59us/step - loss: 0.1424 - val_loss: 0.1395\n",
      "Epoch 18/50\n",
      "60000/60000 [==============================] - 4s 62us/step - loss: 0.1398 - val_loss: 0.1371\n",
      "Epoch 19/50\n",
      "60000/60000 [==============================] - 4s 60us/step - loss: 0.1375 - val_loss: 0.1348\n",
      "Epoch 20/50\n",
      "60000/60000 [==============================] - 4s 59us/step - loss: 0.1352 - val_loss: 0.1326\n",
      "Epoch 21/50\n",
      "60000/60000 [==============================] - 4s 59us/step - loss: 0.1332 - val_loss: 0.1305\n",
      "Epoch 22/50\n",
      "60000/60000 [==============================] - 4s 59us/step - loss: 0.1312 - val_loss: 0.1286\n",
      "Epoch 23/50\n",
      "60000/60000 [==============================] - 4s 61us/step - loss: 0.1293 - val_loss: 0.1269\n",
      "Epoch 24/50\n",
      "60000/60000 [==============================] - 5s 84us/step - loss: 0.1275 - val_loss: 0.1250\n",
      "Epoch 25/50\n",
      "60000/60000 [==============================] - 4s 70us/step - loss: 0.1258 - val_loss: 0.1233\n",
      "Epoch 26/50\n",
      "60000/60000 [==============================] - 4s 62us/step - loss: 0.1242 - val_loss: 0.1217\n",
      "Epoch 27/50\n",
      "60000/60000 [==============================] - 4s 62us/step - loss: 0.1226 - val_loss: 0.1202\n",
      "Epoch 28/50\n",
      "60000/60000 [==============================] - 4s 61us/step - loss: 0.1211 - val_loss: 0.1187\n",
      "Epoch 29/50\n",
      "60000/60000 [==============================] - 4s 59us/step - loss: 0.1197 - val_loss: 0.1173\n",
      "Epoch 30/50\n",
      "60000/60000 [==============================] - 4s 61us/step - loss: 0.1183 - val_loss: 0.1160\n",
      "Epoch 31/50\n",
      "60000/60000 [==============================] - 4s 68us/step - loss: 0.1170 - val_loss: 0.1147\n",
      "Epoch 32/50\n",
      "60000/60000 [==============================] - 4s 59us/step - loss: 0.1158 - val_loss: 0.1135\n",
      "Epoch 33/50\n",
      "60000/60000 [==============================] - 4s 59us/step - loss: 0.1147 - val_loss: 0.1124\n",
      "Epoch 34/50\n",
      "60000/60000 [==============================] - 4s 60us/step - loss: 0.1136 - val_loss: 0.1113\n",
      "Epoch 35/50\n",
      "60000/60000 [==============================] - 4s 60us/step - loss: 0.1126 - val_loss: 0.1103\n",
      "Epoch 36/50\n",
      "60000/60000 [==============================] - 4s 59us/step - loss: 0.1116 - val_loss: 0.1095\n",
      "Epoch 37/50\n",
      "60000/60000 [==============================] - 3s 57us/step - loss: 0.1107 - val_loss: 0.1086\n",
      "Epoch 38/50\n",
      "60000/60000 [==============================] - 4s 59us/step - loss: 0.1099 - val_loss: 0.1078\n",
      "Epoch 39/50\n",
      "60000/60000 [==============================] - 4s 59us/step - loss: 0.1091 - val_loss: 0.1070\n",
      "Epoch 40/50\n",
      "60000/60000 [==============================] - 4s 62us/step - loss: 0.1084 - val_loss: 0.1063\n",
      "Epoch 41/50\n",
      "60000/60000 [==============================] - 4s 60us/step - loss: 0.1077 - val_loss: 0.1057\n",
      "Epoch 42/50\n",
      "60000/60000 [==============================] - 4s 64us/step - loss: 0.1071 - val_loss: 0.1051\n",
      "Epoch 43/50\n",
      "60000/60000 [==============================] - 4s 60us/step - loss: 0.1065 - val_loss: 0.1045\n",
      "Epoch 44/50\n",
      "60000/60000 [==============================] - 4s 65us/step - loss: 0.1060 - val_loss: 0.1040\n",
      "Epoch 45/50\n",
      "60000/60000 [==============================] - 4s 59us/step - loss: 0.1055 - val_loss: 0.1035\n",
      "Epoch 46/50\n",
      "60000/60000 [==============================] - 4s 63us/step - loss: 0.1050 - val_loss: 0.1031\n",
      "Epoch 47/50\n",
      "60000/60000 [==============================] - 4s 61us/step - loss: 0.1046 - val_loss: 0.1027\n",
      "Epoch 48/50\n",
      "60000/60000 [==============================] - 4s 60us/step - loss: 0.1042 - val_loss: 0.1023\n",
      "Epoch 49/50\n",
      "60000/60000 [==============================] - 3s 58us/step - loss: 0.1038 - val_loss: 0.1020\n",
      "Epoch 50/50\n",
      "60000/60000 [==============================] - 4s 61us/step - loss: 0.1035 - val_loss: 0.1016\n"
     ]
    },
    {
     "data": {
      "text/plain": [
       "<keras.callbacks.History at 0x131213978>"
      ]
     },
     "execution_count": 9,
     "metadata": {},
     "output_type": "execute_result"
    }
   ],
   "source": [
    "autoencoder.fit(x_train, x_train,\n",
    "                epochs=50,\n",
    "                batch_size=256,\n",
    "                shuffle=True,\n",
    "                validation_data=(x_test, x_test))"
   ]
  },
  {
   "cell_type": "code",
   "execution_count": 10,
   "metadata": {},
   "outputs": [],
   "source": [
    "# encode and decode some digits\n",
    "# note that we take them from the *test* set\n",
    "encoded_imgs = encoder.predict(x_test)\n",
    "decoded_imgs = decoder.predict(encoded_imgs)"
   ]
  },
  {
   "cell_type": "code",
   "execution_count": 12,
   "metadata": {},
   "outputs": [
    {
     "data": {
      "image/png": "[encoded data removed]",
      "text/plain": [
       "<Figure size 1440x288 with 2 Axes>"
      ]
     },
     "metadata": {},
     "output_type": "display_data"
    },
    {
     "data": {
      "image/png": "[encoded data removed]",
      "text/plain": [
       "<Figure size 432x288 with 2 Axes>"
      ]
     },
     "metadata": {},
     "output_type": "display_data"
    },
    {
     "data": {
      "image/png": "[encoded data removed]",
      "text/plain": [
       "<Figure size 432x288 with 2 Axes>"
      ]
     },
     "metadata": {},
     "output_type": "display_data"
    },
    {
     "data": {
      "image/png": "[encoded data removed]",
      "text/plain": [
       "<Figure size 432x288 with 2 Axes>"
      ]
     },
     "metadata": {},
     "output_type": "display_data"
    },
    {
     "data": {
      "image/png": "[encoded data removed]",
      "text/plain": [
       "<Figure size 432x288 with 2 Axes>"
      ]
     },
     "metadata": {},
     "output_type": "display_data"
    },
    {
     "data": {
      "image/png": "[encoded data removed]",
      "text/plain": [
       "<Figure size 432x288 with 2 Axes>"
      ]
     },
     "metadata": {},
     "output_type": "display_data"
    },
    {
     "data": {
      "image/png": "[encoded data removed]",
      "text/plain": [
       "<Figure size 432x288 with 2 Axes>"
      ]
     },
     "metadata": {},
     "output_type": "display_data"
    },
    {
     "data": {
      "image/png": "[encoded data removed]",
      "text/plain": [
       "<Figure size 432x288 with 2 Axes>"
      ]
     },
     "metadata": {},
     "output_type": "display_data"
    },
    {
     "data": {
      "image/png": "[encoded data removed]",
      "text/plain": [
       "<Figure size 432x288 with 2 Axes>"
      ]
     },
     "metadata": {},
     "output_type": "display_data"
    },
    {
     "data": {
      "image/png": "[encoded data removed]",
      "text/plain": [
       "<Figure size 432x288 with 2 Axes>"
      ]
     },
     "metadata": {},
     "output_type": "display_data"
    }
   ],
   "source": [
    "# use Matplotlib (don't ask)\n",
    "import matplotlib.pyplot as plt\n",
    "% matplotlib inline\n",
    "n = 10  # how many digits we will display\n",
    "plt.figure(figsize=(20, 4))\n",
    "for i in range(n):\n",
    "    # display original\n",
    "    ax = plt.subplot(2, n, i + 1)\n",
    "    plt.imshow(x_test[i].reshape(28, 28))\n",
    "    plt.gray()\n",
    "    ax.get_xaxis().set_visible(False)\n",
    "    ax.get_yaxis().set_visible(False)\n",
    "\n",
    "    # display reconstruction\n",
    "    ax = plt.subplot(2, n, i + 1 + n)\n",
    "    plt.imshow(decoded_imgs[i].reshape(28, 28))\n",
    "    plt.gray()\n",
    "    ax.get_xaxis().set_visible(False)\n",
    "    ax.get_yaxis().set_visible(False)\n",
    "    plt.show()"
   ]
  },
  {
   "cell_type": "code",
   "execution_count": null,
   "metadata": {},
   "outputs": [],
   "source": []
  }
 ],
 "metadata": {
  "kernelspec": {
   "display_name": "Python 3",
   "language": "python",
   "name": "python3"
  },
  "language_info": {
   "codemirror_mode": {
    "name": "ipython",
    "version": 3
   },
   "file_extension": ".py",
   "mimetype": "text/x-python",
   "name": "python",
   "nbconvert_exporter": "python",
   "pygments_lexer": "ipython3",
   "version": "3.6.6"
  }
 },
 "nbformat": 4,
 "nbformat_minor": 2
}
