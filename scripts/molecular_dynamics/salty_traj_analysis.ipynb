{
 "cells": [
  {
   "cell_type": "markdown",
   "metadata": {},
   "source": [
    "![](IMG-1818.JPG)"
   ]
  },
  {
   "cell_type": "code",
   "execution_count": 1,
   "metadata": {},
   "outputs": [],
   "source": [
    "import numpy as np\n",
    "import MDAnalysis\n",
    "import sympy as sp"
   ]
  },
  {
   "cell_type": "markdown",
   "metadata": {},
   "source": [
    "**Micro to macroscopic heat transfer**\n",
    "\n",
    "Fourier's law relates the macroscopic heat current to the temperature gradient:\n",
    "\n",
    "$J=-\\lambda\\nabla T$\n",
    "\n",
    "where we find $\\lambda$ using the Green-Kubo formula:\n",
    "\n",
    "$\\lambda= \\frac{1}{3VK_{B}T^2} \\int_{0}^{\\infty} \\langle j(0) \\cdot j(t) \\rangle \\, \\mathrm{d}t$\n",
    "\n",
    "For the integration component, we're going to preprocess our trajectory into the time-stamped microscopic heat currents, $j$, and use a numerical method to perform the integration."
   ]
  },
  {
   "cell_type": "code",
   "execution_count": 2,
   "metadata": {},
   "outputs": [],
   "source": [
    "def gk_heat_current(kb, volume, temperature, integrated_heat_current):\n",
    "    gk_hc = 1 / (3 * volume * kb * temperature**2) * integrated_heat_current\n",
    "    return gk_hc"
   ]
  },
  {
   "cell_type": "markdown",
   "metadata": {},
   "source": [
    "\n",
    "\n",
    "I'm using the lowercase $j$ to signify the microscopic heat current:\n",
    "\n",
    "$j(t) = \\frac{d}{dt} \\sum_{i=1}^N r_i e_i $\n",
    "\n",
    "$r_i$ is the atomic position and $e_i$ is the microscopic site energy. The microscopic site energy is a combination of kinetic and potential energies:\n",
    "\n",
    "$e_i = \\frac{1}{2} [ m_i |v_i|^2 + \\sum_{j}{\\phi(r_{ij})}]$"
   ]
  },
  {
   "cell_type": "code",
   "execution_count": 3,
   "metadata": {},
   "outputs": [],
   "source": [
    "def site_energy(mass, velocities, lj_potentials):\n",
    "    se = 0.5 * (mass * abs(velocities)**2 + np.sum(lj_potentials, axis=0))\n",
    "    return se"
   ]
  },
  {
   "cell_type": "markdown",
   "metadata": {},
   "source": [
    "where $v_i$ is the velocity of particle $i$ and $\\phi$ is the interatomic, Lennard Jones potential:\n",
    "\n",
    "$\\phi(r_{ij}) = 4 \\epsilon [( \\frac{\\sigma}{r_{ij}} )^{12} - ( \\frac{\\sigma}{r_{ij}} )^6]$"
   ]
  },
  {
   "cell_type": "code",
   "execution_count": 4,
   "metadata": {},
   "outputs": [],
   "source": [
    "def lj_potential(distance, epsilon, sigma):\n",
    "    lj = 4 * epsilon * ((sigma/distance)**12 - (sigma/distance)**6)\n",
    "    np.nan_to_num(lj, copy=False)\n",
    "    return lj"
   ]
  },
  {
   "cell_type": "markdown",
   "metadata": {},
   "source": [
    "where $r_{ij}$ are the interatomic distances. This simplifies to the final experession:\n",
    "\n",
    "$j(t) = \\sum_{i}{v_{i} e_{i}} + \\frac{1}{2} \\sum_{i}\\sum_{j>i}[{(v_{j}+v_{i}) \\cdot F_{ij}]r_{ij}}$ \n",
    "\n",
    "where $F_{ij}$ is the force exerted on atom $i$ from its LJ interaction with atom $j$: $F_{ij} = -\\frac{\\partial \\phi}{\\partial r_{ij}}$"
   ]
  },
  {
   "cell_type": "code",
   "execution_count": 5,
   "metadata": {},
   "outputs": [],
   "source": [
    "def microscopic_heat_current(site_energies, velocities, distances, forces):\n",
    "    micro_hc = np.sum(velocities * site_energies) + 0.5 * np.sum(np.sum(velocities * \n",
    "                                                             np.nan_to_num(forces)) * distances)\n",
    "    return micro_hc"
   ]
  },
  {
   "cell_type": "markdown",
   "metadata": {},
   "source": [
    "**Calculating in MDAnalysis**\n",
    "\n",
    "There are $\\sum_{i=1}^{N-1}{i}$ pairwise distances and $N$ velocities we need to calculate to compute the microscopic energy of every atom in our system"
   ]
  },
  {
   "cell_type": "code",
   "execution_count": 13,
   "metadata": {},
   "outputs": [],
   "source": [
    "# before we start lets define some variables\n",
    "\n",
    "kb = 0.0083144621 #KJ/mol K\n",
    "sigma = .34 #nm\n",
    "epsilon = 0.99774 #KJ/mol\n",
    "mass = 39.948 #AU\n",
    "timestep = 0.002 # in ps\n",
    "\n",
    "# should the timestep be the md timestep\n",
    "# or should the xtc write frequency be \n",
    "# taken into account?"
   ]
  },
  {
   "cell_type": "code",
   "execution_count": 19,
   "metadata": {},
   "outputs": [
    {
     "name": "stderr",
     "output_type": "stream",
     "text": [
      "/home/wesleybeckner/.local/lib/python3.6/site-packages/MDAnalysis/topology/guessers.py:72: UserWarning: Failed to guess the mass for the following atom types: A\n",
      "  warnings.warn(\"Failed to guess the mass for the following atom types: {}\".format(atom_type))\n",
      "/home/wesleybeckner/anaconda3/envs/py36/lib/python3.6/site-packages/ipykernel_launcher.py:2: RuntimeWarning: divide by zero encountered in true_divide\n",
      "  \n",
      "/home/wesleybeckner/anaconda3/envs/py36/lib/python3.6/site-packages/ipykernel_launcher.py:2: RuntimeWarning: invalid value encountered in subtract\n",
      "  \n"
     ]
    },
    {
     "name": "stdout",
     "output_type": "stream",
     "text": [
      "Frame 0: min/max velocities: 0.1...5.5 A\n",
      "Frame 0: min/max lj_potentials: -0.9...0.0 KJ/mol\n"
     ]
    },
    {
     "name": "stderr",
     "output_type": "stream",
     "text": [
      "/home/wesleybeckner/anaconda3/envs/py36/lib/python3.6/site-packages/ipykernel_launcher.py:39: RuntimeWarning: invalid value encountered in true_divide\n"
     ]
    },
    {
     "name": "stdout",
     "output_type": "stream",
     "text": [
      "Frame 1: min/max velocities: 0.1...5.0 A\n",
      "Frame 1: min/max lj_potentials: -1.0...4.2 KJ/mol\n",
      "Frame 1: micro heat current: 3716012473.9 KJ\n",
      "Frame 2: min/max velocities: 0.2...6.0 A\n",
      "Frame 2: min/max lj_potentials: -1.0...3.1 KJ/mol\n",
      "Frame 2: micro heat current: 4591803381.9 KJ\n",
      "Frame 3: min/max velocities: 0.2...6.0 A\n",
      "Frame 3: min/max lj_potentials: -1.0...10.2 KJ/mol\n",
      "Frame 3: micro heat current: 2902303375.6 KJ\n",
      "Frame 4: min/max velocities: 0.3...7.9 A\n",
      "Frame 4: min/max lj_potentials: -1.0...3.0 KJ/mol\n",
      "Frame 4: micro heat current: 2165019219.1 KJ\n",
      "Frame 5: min/max velocities: 0.3...5.5 A\n",
      "Frame 5: min/max lj_potentials: -1.0...3.8 KJ/mol\n",
      "Frame 5: micro heat current: 1714668810.8 KJ\n",
      "Frame 6: min/max velocities: 0.2...5.7 A\n",
      "Frame 6: min/max lj_potentials: -1.0...2.9 KJ/mol\n",
      "Frame 6: micro heat current: 1067363987.0 KJ\n",
      "Frame 7: min/max velocities: 0.3...5.9 A\n",
      "Frame 7: min/max lj_potentials: -1.0...3.8 KJ/mol\n",
      "Frame 7: micro heat current: 979540643.7 KJ\n",
      "Frame 8: min/max velocities: 0.2...6.1 A\n",
      "Frame 8: min/max lj_potentials: -1.0...2.7 KJ/mol\n",
      "Frame 8: micro heat current: 1384076194.7 KJ\n",
      "Wrote PDB trajectory for Argon with distances in bfactor field\n"
     ]
    }
   ],
   "source": [
    "u = MDAnalysis.Universe(\"argon.pdb\", \"traj.trr\")\n",
    "u.atoms[u.atoms.types == 'A'].masses = mass\n",
    "pdbtrj = \"argon.pdb\"\n",
    "heat_current = []\n",
    "\n",
    "with MDAnalysis.Writer(pdbtrj, multiframe=True, bonds=None, n_atoms=u.atoms.n_atoms) as PDB:\n",
    "    i = 0\n",
    "    for ts in u.trajectory[:10]:\n",
    "        pairwise_distances = np.zeros((u.atoms.n_atoms,u.atoms.n_atoms))\n",
    "        pairwise_velocities = np.zeros((u.atoms.n_atoms,u.atoms.n_atoms))\n",
    "        for atom_a in range(u.atoms.n_atoms):\n",
    "            for atom_b in range(atom_a + 1 , u.atoms.n_atoms):\n",
    "                \n",
    "                # calculate distances\n",
    "                distance = np.sqrt(np.sum((u.atoms[atom_a].position -\n",
    "                                           u.atoms[atom_b].position)**2))/10 #A to nm\n",
    "                pairwise_distances[atom_a,atom_b] = distance\n",
    "                \n",
    "                # calculate d(r_ij) / dt\n",
    "                relative_velocity = np.sqrt(np.sum((u.atoms[atom_a].velocity -\n",
    "                                           u.atoms[atom_b].velocity)**2))\n",
    "                pairwise_velocities[atom_a,atom_b] = relative_velocity\n",
    "                \n",
    "        #compute velocities\n",
    "        velocities = np.sqrt(np.sum(u.atoms.velocities**2, axis=1))\n",
    "        \n",
    "        #compute forces\n",
    "        forces = np.sqrt(np.sum(u.atoms.forces**2, axis=1))\n",
    "        \n",
    "        # 1) compute LJ\n",
    "        lj_potentials = lj_potential(pairwise_distances, epsilon, sigma)\n",
    "       \n",
    "        # 2) compute site energy\n",
    "        site_energies = site_energy(mass, velocities, lj_potentials)\n",
    "        \n",
    "        if i > 0:\n",
    "            pairwise_forces = -(lj_potentials - \n",
    "                                previous_lj_potentials) / (pairwise_distances - \n",
    "                                                           previous_pairwise_distances)\n",
    "            # 3) compute micro heat current\n",
    "            micro_hc = microscopic_heat_current(site_energies, pairwise_velocities,\n",
    "                                                pairwise_distances, pairwise_forces)\n",
    "            heat_current.append(micro_hc)\n",
    "        \n",
    "        previous_lj_potentials = lj_potentials\n",
    "        previous_pairwise_distances = pairwise_distances\n",
    "        \n",
    "        PDB.write(u.atoms)\n",
    "        i += 1\n",
    "        if i < 10:\n",
    "            print(\"Frame {}: \"\n",
    "                  \"min/max velocities: {:.1f}...{:.1f} nm/ps\".format(ts.frame, \n",
    "                                                                 velocities.min(), \n",
    "                                                                 velocities.max()))\n",
    "            print(\"Frame {}: \"\n",
    "                  \"min/max lj_potentials: {:.1f}...{:.1f} KJ/mol\".format(ts.frame, \n",
    "                                                                 np.nanmin(lj_potentials), \n",
    "                                                                 np.nanmax(lj_potentials)))\n",
    "        if 10 > i > 1:\n",
    "            print(\"Frame {}: \"\n",
    "                  \"micro heat current: {:.1f} KJ\".format(ts.frame, micro_hc))\n",
    "\n",
    "print(\"Wrote PDB trajectory for Argon with distances in bfactor field\")"
   ]
  },
  {
   "cell_type": "markdown",
   "metadata": {},
   "source": [
    "**Unit Conversions**\n",
    "\n",
    "The following are from the GROMACS manual:\n",
    "\n",
    "| Quanitity | Symbol | Units |\n",
    "|---|---|---|\n",
    "| velocity | *v* | $nm \\space ps^{-1} \\space or \\space 1000 \\space m s^{-1}$ |\n",
    "| length | r | $10^{-9} m$ |\n",
    "| mass | m | $ 1.660 538 921 x 10^{-27} kg $ |\n",
    "| time | t | $ 10^{-12} s $ |\n",
    "| temperature | K | $K$ |\n",
    "| force | F | $KJ \\space mol^{-1} \\space nm^{-1}$ |"
   ]
  },
  {
   "cell_type": "code",
   "execution_count": 18,
   "metadata": {},
   "outputs": [
    {
     "data": {
      "text/plain": [
       "array([ 3.641   , 14.565001, 14.565001], dtype=float32)"
      ]
     },
     "execution_count": 18,
     "metadata": {},
     "output_type": "execute_result"
    }
   ],
   "source": [
    "u.atoms[100].position"
   ]
  },
  {
   "cell_type": "code",
   "execution_count": 20,
   "metadata": {},
   "outputs": [
    {
     "name": "stdout",
     "output_type": "stream",
     "text": [
      "[[0.         3.62564802 5.1666379  ... 3.4837029  2.53749013 3.05304861]\n",
      " [0.         0.         4.17716503 ... 1.83053863 2.49247622 2.5765872 ]\n",
      " [0.         0.         0.         ... 3.2197969  2.74619532 4.67313719]]\n",
      "[[            nan -3.28339070e-06 -6.21306281e-06 ... -1.47709258e-02\n",
      "  -1.09398735e-01 -4.43879878e+00]\n",
      " [            nan             nan -2.32991165e-06 ... -2.17548511e-05\n",
      "  -1.48424816e-05 -7.42463331e-06]\n",
      " [            nan             nan             nan ... -3.24581068e-05\n",
      "  -2.39331840e-05 -1.31726383e-05]]\n",
      "[[0.         3.7890213  3.47293701 ... 1.13412371 0.85463076 0.46293979]\n",
      " [0.         0.         4.00438271 ... 2.90923347 3.05787697 3.39182014]\n",
      " [0.         0.         0.         ... 2.74365005 2.86722374 3.14381886]]\n"
     ]
    }
   ],
   "source": [
    "print(pairwise_velocities[:3])\n",
    "print(pairwise_forces[:3])\n",
    "print(pairwise_distances[:3])"
   ]
  },
  {
   "cell_type": "code",
   "execution_count": 103,
   "metadata": {},
   "outputs": [],
   "source": [
    "# np.save(\"argon_heat_currents_2.npy\", heat_current)"
   ]
  },
  {
   "cell_type": "code",
   "execution_count": 27,
   "metadata": {},
   "outputs": [],
   "source": [
    "hc = np.load(\"argon_heat_currents_2.npy\")\n",
    "# hc = heat_current"
   ]
  },
  {
   "cell_type": "code",
   "execution_count": 28,
   "metadata": {},
   "outputs": [],
   "source": [
    "import matplotlib.pyplot as plt"
   ]
  },
  {
   "cell_type": "code",
   "execution_count": 29,
   "metadata": {},
   "outputs": [
    {
     "data": {
      "text/plain": [
       "[<matplotlib.lines.Line2D at 0x181cb09470>]"
      ]
     },
     "execution_count": 29,
     "metadata": {},
     "output_type": "execute_result"
    },
    {
     "data": {
      "image/png": "[encoded data removed]",
      "text/plain": [
       "<Figure size 432x288 with 1 Axes>"
      ]
     },
     "metadata": {},
     "output_type": "display_data"
    }
   ],
   "source": [
    "plt.plot(hc)"
   ]
  },
  {
   "cell_type": "markdown",
   "metadata": {},
   "source": [
    "We have the heat currents, now we need to compute the integral\n",
    "\n",
    "$\\lambda= \\frac{1}{3VK_{B}T^2} \\int_{0}^{\\infty} \\langle j(0) \\cdot j(t) \\rangle \\, \\mathrm{d}t$"
   ]
  },
  {
   "cell_type": "code",
   "execution_count": 30,
   "metadata": {},
   "outputs": [],
   "source": [
    "# create timestep array (ps)\n",
    "# timestep is dt * nstxout\n",
    "# 0.002 * 100\n",
    "dt_array = np.arange(0,1000,.2)"
   ]
  },
  {
   "cell_type": "code",
   "execution_count": 31,
   "metadata": {},
   "outputs": [],
   "source": [
    "from scipy.integrate import simps"
   ]
  },
  {
   "cell_type": "code",
   "execution_count": 32,
   "metadata": {},
   "outputs": [],
   "source": [
    "integrated_hc = simps(np.dot(hc[0], hc))#, dt_array)"
   ]
  },
  {
   "cell_type": "code",
   "execution_count": 33,
   "metadata": {},
   "outputs": [],
   "source": [
    "box_length = 29.130 # A\n",
    "volume = box_length**3 # A^3\n",
    "temperature = 100 # K"
   ]
  },
  {
   "cell_type": "code",
   "execution_count": 34,
   "metadata": {},
   "outputs": [
    {
     "data": {
      "text/plain": [
       "195334669246026.1"
      ]
     },
     "execution_count": 34,
     "metadata": {},
     "output_type": "execute_result"
    }
   ],
   "source": [
    "# compute the thermal conductivity\n",
    "# need to convert to W/M K\n",
    "gk_heat_current(kb, volume, temperature, integrated_hc)"
   ]
  },
  {
   "cell_type": "markdown",
   "metadata": {},
   "source": [
    "# Things to look at"
   ]
  },
  {
   "cell_type": "markdown",
   "metadata": {},
   "source": [
    "https://aip.scitation.org/doi/10.1063/1.4749265\n",
    "\n",
    "https://courses.physics.illinois.edu/phys466/sp2011/projects/2004/Team1/index.html\n",
    "\n",
    "https://pubs.acs.org/doi/10.1021/acs.analchem.7b05350\n"
   ]
  }
 ],
 "metadata": {
  "kernelspec": {
   "display_name": "Python 3",
   "language": "python",
   "name": "python3"
  },
  "language_info": {
   "codemirror_mode": {
    "name": "ipython",
    "version": 3
   },
   "file_extension": ".py",
   "mimetype": "text/x-python",
   "name": "python",
   "nbconvert_exporter": "python",
   "pygments_lexer": "ipython3",
   "version": "3.6.5"
  }
 },
 "nbformat": 4,
 "nbformat_minor": 2
}
